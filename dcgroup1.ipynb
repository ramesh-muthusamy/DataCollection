{
 "cells": [
  {
   "cell_type": "code",
   "execution_count": 6,
   "metadata": {
    "collapsed": true
   },
   "outputs": [],
   "source": [
    "try: \n",
    "    from BeautifulSoup import BeautifulSoup\n",
    "except ImportError:\n",
    "    from bs4 import BeautifulSoup"
   ]
  },
  {
   "cell_type": "code",
   "execution_count": 7,
   "metadata": {
    "collapsed": false
   },
   "outputs": [],
   "source": [
    "import codecs\n",
    "\n",
    "\n",
    " #Your task is to obtain structured data for the business: business name, \n",
    "    #business phone number, business home page URL, business address, opening hours,\n",
    "    #Takes Reservations, Delivery, Take-out, Accepts Credit Cards, Accepts Apple Pay,Accepts Android Pay, Accepts Bitcoin, Good For, Parking, Bike Parking, Good for Kids, Good for Groups, Attire, Ambience, Noise Level, Alcohol, Outdoor Seating, Wi-Fi, Has TV, Caters, Gender Neutral Restrooms, contact-us URL for the business, email id for the business."
   ]
  },
  {
   "cell_type": "code",
   "execution_count": 8,
   "metadata": {
    "collapsed": false
   },
   "outputs": [],
   "source": [
    "def parseData(parsed_html,type,attrsval):\n",
    "    data=parsed_html.body.find(type, attrs=attrsval)\n",
    "    if data is not None:\n",
    "        return data.text.encode('utf-8').strip(\" \\n\\t\")\n",
    "    return \"\"\n",
    "    "
   ]
  },
  {
   "cell_type": "code",
   "execution_count": 9,
   "metadata": {
    "collapsed": false
   },
   "outputs": [],
   "source": [
    "def parseURLData(parsed_html):\n",
    "    if parsed_html.find('span',{'class':'biz-website js-add-url-tagging'}) is not None:\n",
    "        if parsed_html.find('span',{'class':'biz-website js-add-url-tagging'}).findAll('a') is not None:\n",
    "            return parse_qs(urlparse(parsed_html.find('span',{'class':'biz-website js-add-url-tagging'}).findAll('a')[0]['href']).query)['url'][0]\n",
    "        else:\n",
    "            return \"\"\n",
    "    else:\n",
    "        return \"\"\n",
    "            "
   ]
  },
  {
   "cell_type": "code",
   "execution_count": 56,
   "metadata": {
    "collapsed": false
   },
   "outputs": [
    {
     "name": "stdout",
     "output_type": "stream",
     "text": [
      "21\n",
      "21\n",
      "20\n",
      "23\n",
      "24\n",
      "21\n",
      "22\n",
      "21\n",
      "22\n",
      "23\n",
      "20\n",
      "29\n",
      "23\n",
      "18\n",
      "22\n",
      "28\n",
      "19\n",
      "20\n",
      "21\n",
      "19\n",
      "20\n",
      "17\n",
      "19\n",
      "18\n",
      "28\n",
      "18\n",
      "19\n",
      "23\n",
      "18\n",
      "19\n",
      "19\n",
      "19\n",
      "22\n",
      "19\n",
      "17\n",
      "26\n",
      "24\n",
      "30\n",
      "19\n",
      "18\n",
      "20\n",
      "22\n",
      "24\n",
      "22\n",
      "20\n",
      "20\n",
      "20\n",
      "19\n",
      "21\n"
     ]
    }
   ],
   "source": [
    "# add path for other fields\n",
    "businessname={'class':'biz-page-title embossed-text-white shortenough'}\n",
    "businessph={'class':'biz-phone'}\n",
    "businessurl={'target':'_blank'}\n",
    "address={'class':\"street-address\"}\n",
    "\n",
    "\n",
    "from urlparse import urlparse,parse_qs\n",
    "listoflists = []\n",
    "for i in range(1,50):\n",
    "    f=codecs.open(\"/Users/ramesh/Downloads/assignmentData/\"+str(i)+\".html\", 'r')\n",
    "    parsed_html = BeautifulSoup(f.read())\n",
    "    a_list = {}\n",
    "    #phoneData=parseData(\"/Users/ramesh/Downloads/assignmentData/\"+str(i)+\".html\",\"span\",businessph)\n",
    "    a_list['id']=i\n",
    "    #business phone\n",
    "    a_list['b_phone']=parseData(parsed_html,\"span\",businessph)\n",
    "    #business name\n",
    "    a_list['b_name']=parseData(parsed_html,'h1',businessname)\n",
    "    #business address\n",
    "    a_list['b_address']=parseData(parsed_html,'strong',address)\n",
    "    #business url\n",
    "    a_list['b_url']=parseURLData(parsed_html)\n",
    "    time=str(parsed_html.find('table',{'class':'table table-simple hours-table'}).text.encode('utf-8'))\n",
    "    a_list['timings']= time.replace('\\n','')\n",
    "    #Delivery\n",
    "#Take-out\n",
    "#Accepts Credit Cards\n",
    "#Accepts Apple Pay\n",
    "#Good For\n",
    "#Parking\n",
    "#Bike Parking\n",
    "#Good for Kids\n",
    "#Good for Groups\n",
    "#Attire\n",
    "#Ambience\n",
    "#Noise Level\n",
    "#Good For Dancing\n",
    "#Alcohol\n",
    "#Outdoor Seating\n",
    "#Wi-Fi\n",
    "#Has TV\n",
    "#Caters\n",
    "#Has Pool Table\n",
    "#Gender Neutral Restrooms\n",
    "    print  len(parsed_html.find('div',{'class':'short-def-list'}).findAll('dl'))\n",
    "    for i in range(0, len(parsed_html.find('div',{'class':'short-def-list'}).findAll('dl'))):\n",
    "        a_list[parsed_html.find('div',{'class':'short-def-list'}).findAll('dl')[i].find('dt').text.encode('utf-8').strip(\" \\n\\t\")\n",
    "   ]=parsed_html.find('div',{'class':'short-def-list'}).findAll('dl')[i].find('dd').text.encode('utf-8').strip(\" \\n\\t\")\n",
    "    listoflists.append(a_list)\n",
    "  "
   ]
  },
  {
   "cell_type": "code",
   "execution_count": 54,
   "metadata": {
    "collapsed": false
   },
   "outputs": [
    {
     "data": {
      "text/plain": [
       "[{'Accepts Apple Pay': 'No',\n",
       "  'Accepts Credit Cards': 'Yes',\n",
       "  'Alcohol': 'Full Bar',\n",
       "  'Ambience': 'Classy',\n",
       "  'Attire': 'Dressy',\n",
       "  'Bike Parking': 'No',\n",
       "  'Caters': 'Yes',\n",
       "  'Delivery': 'No',\n",
       "  'Gender Neutral Restrooms': 'Yes',\n",
       "  'Good For': 'Dinner',\n",
       "  'Good For Dancing': 'No',\n",
       "  'Good for Groups': 'Yes',\n",
       "  'Good for Kids': 'No',\n",
       "  'Has Pool Table': 'No',\n",
       "  'Has TV': 'No',\n",
       "  'Noise Level': 'Average',\n",
       "  'Outdoor Seating': 'No',\n",
       "  'Parking': 'Garage, Street',\n",
       "  'Take-out': 'Yes',\n",
       "  'Takes Reservations': 'Yes',\n",
       "  'Wi-Fi': 'Free',\n",
       "  'b_address': '1300 Fillmore StSan Francisco, CA 94115',\n",
       "  'b_name': '1300 on Fillmore',\n",
       "  'b_phone': '(415) 771-7100',\n",
       "  'b_url': 'http://1300fillmore.com/',\n",
       "  'id': 1,\n",
       "  'timings': 'Mon            Closed        Tue5:30 pm - 10:00 pmWed5:30 pm - 10:00 pmClosed nowThu5:30 pm - 10:00 pmFri5:30 pm - 11:00 pmSat5:30 pm - 11:00 pmSun10:30 am - 2:30 pm5:30 pm - 10:00 pm'},\n",
       " {'Accepts Apple Pay': 'No',\n",
       "  'Accepts Credit Cards': 'Yes',\n",
       "  'Alcohol': 'Beer & Wine Only',\n",
       "  'Ambience': 'Casual',\n",
       "  'Attire': 'Casual',\n",
       "  'Bike Parking': 'Yes',\n",
       "  'Caters': 'No',\n",
       "  'Delivery': 'Yes',\n",
       "  'Gender Neutral Restrooms': 'Yes',\n",
       "  'Good For': 'Breakfast, Brunch, Lunch',\n",
       "  'Good for Groups': 'Yes',\n",
       "  'Good for Kids': 'Yes',\n",
       "  'Has TV': 'Yes',\n",
       "  'Noise Level': 'Average',\n",
       "  'Outdoor Seating': 'Yes',\n",
       "  'Parking': 'Street',\n",
       "  'Take-out': 'Yes',\n",
       "  'Takes Reservations': 'No',\n",
       "  'Waiter Service': 'No',\n",
       "  'Wheelchair Accessible': 'Yes',\n",
       "  'Wi-Fi': 'Free',\n",
       "  'b_address': '1428 Haight StSan Francisco, CA 94117',\n",
       "  'b_name': '',\n",
       "  'b_phone': '(415) 864-8484',\n",
       "  'b_url': 'http://www.1428haight.com',\n",
       "  'id': 2,\n",
       "  'timings': 'Mon8:00 am - 10:00 pmTue8:00 am - 10:00 pmWed8:00 am - 10:00 pmOpen nowThu8:00 am - 10:00 pmFri8:00 am - 10:00 pmSat8:00 am - 10:00 pmSun8:00 am - 10:00 pm'},\n",
       " {'Accepts Apple Pay': 'No',\n",
       "  'Accepts Bitcoin': 'No',\n",
       "  'Accepts Credit Cards': 'Yes',\n",
       "  'Alcohol': 'Beer & Wine Only',\n",
       "  'Ambience': 'Trendy',\n",
       "  'Attire': 'Casual',\n",
       "  'Bike Parking': 'Yes',\n",
       "  'Caters': 'No',\n",
       "  'Delivery': 'No',\n",
       "  'Gender Neutral Restrooms': 'Yes',\n",
       "  'Good For Dancing': 'No',\n",
       "  'Good for Groups': 'Yes',\n",
       "  'Good for Kids': 'No',\n",
       "  'Has TV': 'No',\n",
       "  'Noise Level': 'Average',\n",
       "  'Outdoor Seating': 'No',\n",
       "  'Parking': 'Garage, Street',\n",
       "  'Take-out': 'Yes',\n",
       "  'Takes Reservations': 'Yes',\n",
       "  'Wi-Fi': 'Free',\n",
       "  'b_address': '1601 Howard StSan Francisco, CA 94103',\n",
       "  'b_name': '1601 Bar & Kitchen',\n",
       "  'b_phone': '(415) 552-1601',\n",
       "  'b_url': 'http://www.1601sf.com/',\n",
       "  'id': 3,\n",
       "  'timings': 'Mon            Closed        Tue5:30 pm - 9:30 pmWed5:30 pm - 9:30 pmClosed nowThu5:30 pm - 9:30 pmFri5:30 pm - 10:00 pmSat5:30 pm - 10:00 pmSun            Closed        '},\n",
       " {'Accepts Apple Pay': 'No',\n",
       "  'Accepts Credit Cards': 'Yes',\n",
       "  'Alcohol': 'Full Bar',\n",
       "  'Ambience': 'Trendy',\n",
       "  'Attire': 'Casual',\n",
       "  'Bike Parking': 'Yes',\n",
       "  'Caters': 'No',\n",
       "  'Coat Check': 'No',\n",
       "  'Delivery': 'No',\n",
       "  'Good For': 'Dinner',\n",
       "  'Good For Dancing': 'No',\n",
       "  'Good for Groups': 'Yes',\n",
       "  'Good for Kids': 'No',\n",
       "  'Happy Hour': 'Yes',\n",
       "  'Has Pool Table': 'No',\n",
       "  'Has TV': 'No',\n",
       "  'Noise Level': 'Average',\n",
       "  'Outdoor Seating': 'No',\n",
       "  'Parking': 'Street',\n",
       "  'Smoking': 'No',\n",
       "  'Take-out': 'No',\n",
       "  'Takes Reservations': 'Yes',\n",
       "  'Wi-Fi': 'No',\n",
       "  'b_address': '1760 Polk StSan Francisco, CA 94109',\n",
       "  'b_name': '1760',\n",
       "  'b_phone': '(415) 359-1212',\n",
       "  'b_url': 'http://www.1760sf.com/',\n",
       "  'id': 4,\n",
       "  'timings': 'Mon5:30 pm - 9:30 pmTue5:30 pm - 9:30 pmWed5:30 pm - 9:30 pmClosed nowThu5:30 pm - 9:30 pmFri5:30 pm - 11:00 pmSat5:30 pm - 11:00 pmSun            Closed        '}]"
      ]
     },
     "execution_count": 54,
     "metadata": {},
     "output_type": "execute_result"
    }
   ],
   "source": [
    "listoflists"
   ]
  },
  {
   "cell_type": "code",
   "execution_count": 58,
   "metadata": {
    "collapsed": false
   },
   "outputs": [],
   "source": [
    "#business name, business phone number, business home page URL, business address, opening hours, Takes Reservations,\n",
    "# Delivery, Take-out, Accepts Credit Cards, Accepts Apple Pay, Accepts Android Pay, Accepts Bitcoin, Good For, \n",
    "# Parking, Bike Parking, Good for Kids, Good for \n",
    "#Groups, Attire, Ambience, Noise Level, Alcohol, Outdoor Seating, Wi-Fi, Has TV, Caters, \n",
    "#Gender Neutral Restrooms, contact-us URL for the business, email id for the business.\n",
    "import csv\n",
    "with open('out.txt', 'wb') as csvfile:\n",
    "    datawriter = csv.writer(csvfile, delimiter='\\t',\n",
    "                            quotechar='\"', quoting=csv.QUOTE_ALL)\n",
    "    for data in listoflists:\n",
    "        datawriter.writerow([data.get('b_name',''),data.get('b_phone',''),data.get('b_url',''),data.get('b_address',''),data.get('timings',''),data.get('Takes Reservations',''),data.get('Delivery',''),\n",
    "                     data.get('Take-out',''),data.get('Accepts Credit Cards',''),data.get('Accepts Apple Pay',''),data.get('Accepts Android Pay','')\n",
    "                    ,data.get('Accepts Bitcoin',''),data.get('Good For',''),data.get('Parking',''),data.get('Bike Parking',''),data.get('Good for Kids','')\n",
    "                    ,data.get('Good for Groups',''),data.get('Attire',''),data.get('Ambience',''),data.get('Noise Level',''),data.get('Alcohol',''),\n",
    "                     data.get('Outdoor Seating',''),data.get('Wi-Fi',''),data.get('Has TV',''),data.get('Caters',''),data.get('Gender Neutral Restrooms','')])"
   ]
  },
  {
   "cell_type": "code",
   "execution_count": null,
   "metadata": {
    "collapsed": false
   },
   "outputs": [],
   "source": [
    "\n",
    "   "
   ]
  },
  {
   "cell_type": "code",
   "execution_count": null,
   "metadata": {
    "collapsed": true
   },
   "outputs": [],
   "source": []
  }
 ],
 "metadata": {
  "kernelspec": {
   "display_name": "Python 2",
   "language": "python",
   "name": "python2"
  },
  "language_info": {
   "codemirror_mode": {
    "name": "ipython",
    "version": 2
   },
   "file_extension": ".py",
   "mimetype": "text/x-python",
   "name": "python",
   "nbconvert_exporter": "python",
   "pygments_lexer": "ipython2",
   "version": "2.7.13"
  }
 },
 "nbformat": 4,
 "nbformat_minor": 2
}
